{
 "cells": [
  {
   "cell_type": "code",
   "execution_count": 1,
   "id": "78cbe3b6",
   "metadata": {
    "_cell_guid": "b1076dfc-b9ad-4769-8c92-a6c4dae69d19",
    "_uuid": "8f2839f25d086af736a60e9eeb907d3b93b6e0e5",
    "execution": {
     "iopub.execute_input": "2023-05-04T12:58:42.173987Z",
     "iopub.status.busy": "2023-05-04T12:58:42.173325Z",
     "iopub.status.idle": "2023-05-04T12:58:42.192749Z",
     "shell.execute_reply": "2023-05-04T12:58:42.191891Z"
    },
    "papermill": {
     "duration": 0.030226,
     "end_time": "2023-05-04T12:58:42.195067",
     "exception": false,
     "start_time": "2023-05-04T12:58:42.164841",
     "status": "completed"
    },
    "tags": []
   },
   "outputs": [
    {
     "name": "stdout",
     "output_type": "stream",
     "text": [
      "/kaggle/input/books10000/Books_small_10000.json\n",
      "/kaggle/input/bookss/Books_small.json\n"
     ]
    }
   ],
   "source": [
    "# This Python 3 environment comes with many helpful analytics libraries installed\n",
    "# It is defined by the kaggle/python Docker image: https://github.com/kaggle/docker-python\n",
    "# For example, here's several helpful packages to load\n",
    "\n",
    "import numpy as np # linear algebra\n",
    "import pandas as pd # data processing, CSV file I/O (e.g. pd.read_csv)\n",
    "\n",
    "# Input data files are available in the read-only \"../input/\" directory\n",
    "# For example, running this (by clicking run or pressing Shift+Enter) will list all files under the input directory\n",
    "\n",
    "import os\n",
    "for dirname, _, filenames in os.walk('/kaggle/input'):\n",
    "    for filename in filenames:\n",
    "        print(os.path.join(dirname, filename))\n",
    "\n",
    "# You can write up to 20GB to the current directory (/kaggle/working/) that gets preserved as output when you create a version using \"Save & Run All\" \n",
    "# You can also write temporary files to /kaggle/temp/, but they won't be saved outside of the current session"
   ]
  },
  {
   "cell_type": "markdown",
   "id": "d54238d2",
   "metadata": {
    "papermill": {
     "duration": 0.006284,
     "end_time": "2023-05-04T12:58:42.208142",
     "exception": false,
     "start_time": "2023-05-04T12:58:42.201858",
     "status": "completed"
    },
    "tags": []
   },
   "source": [
    "## Data Class"
   ]
  },
  {
   "cell_type": "code",
   "execution_count": 2,
   "id": "11502c5a",
   "metadata": {
    "execution": {
     "iopub.execute_input": "2023-05-04T12:58:42.222920Z",
     "iopub.status.busy": "2023-05-04T12:58:42.222343Z",
     "iopub.status.idle": "2023-05-04T12:58:42.230484Z",
     "shell.execute_reply": "2023-05-04T12:58:42.229549Z"
    },
    "papermill": {
     "duration": 0.018026,
     "end_time": "2023-05-04T12:58:42.232595",
     "exception": false,
     "start_time": "2023-05-04T12:58:42.214569",
     "status": "completed"
    },
    "tags": []
   },
   "outputs": [],
   "source": [
    "import random\n",
    "\n",
    "class Sentiment:\n",
    "    NEGATIVE = \"NEGATIVE\"\n",
    "    NEUTRAL = \"NEUTRAL\"\n",
    "    POSITIVE = \"POSITIVE\"\n",
    "\n",
    "class Review:\n",
    "    def __init__(self, text, score):\n",
    "        self.text = text\n",
    "        self.score = score\n",
    "        self.sentiment = self.get_sentiment()\n",
    "        \n",
    "    def get_sentiment(self):\n",
    "        if self.score <= 2:\n",
    "            return Sentiment.NEGATIVE\n",
    "        elif self.score == 3:\n",
    "            return Sentiment.NEUTRAL\n",
    "        else:\n",
    "            return Sentiment.POSITIVE\n",
    "        \n",
    "class ReviewContainer:\n",
    "    def __init__(self, reviews):\n",
    "        self.reviews = reviews\n",
    "        \n",
    "    def get_text(self):\n",
    "        return [x.text for x in self.reviews]\n",
    "        \n",
    "    def get_sentiment(self):\n",
    "        return [x.sentiment for x in self.reviews]\n",
    "    \n",
    "    def evenly_distribute(self):\n",
    "        negative = list(filter(lambda x: x.sentiment == Sentiment.NEGATIVE, self.reviews))\n",
    "        positive = list(filter(lambda x: x.sentiment == Sentiment.POSITIVE, self.reviews))\n",
    "        positive_shrunk = positive[:len(negative)]\n",
    "        self.reviews = negative + positive_shrunk\n",
    "        random.shuffle(self.reviews)\n",
    "        "
   ]
  },
  {
   "cell_type": "markdown",
   "id": "e3a8b3a1",
   "metadata": {
    "papermill": {
     "duration": 0.006148,
     "end_time": "2023-05-04T12:58:42.245487",
     "exception": false,
     "start_time": "2023-05-04T12:58:42.239339",
     "status": "completed"
    },
    "tags": []
   },
   "source": [
    "## Load Data"
   ]
  },
  {
   "cell_type": "code",
   "execution_count": 3,
   "id": "b5e67e1b",
   "metadata": {
    "execution": {
     "iopub.execute_input": "2023-05-04T12:58:42.260163Z",
     "iopub.status.busy": "2023-05-04T12:58:42.259792Z",
     "iopub.status.idle": "2023-05-04T12:58:42.398861Z",
     "shell.execute_reply": "2023-05-04T12:58:42.398071Z"
    },
    "papermill": {
     "duration": 0.149034,
     "end_time": "2023-05-04T12:58:42.400867",
     "exception": false,
     "start_time": "2023-05-04T12:58:42.251833",
     "status": "completed"
    },
    "tags": []
   },
   "outputs": [
    {
     "data": {
      "text/plain": [
       "'I hoped for Mia to have some peace in this book, but her story is so real and raw.  Broken World was so touching and emotional because you go from Mia\\'s trauma to her trying to cope.  I love the way the story displays how there is no \"just bouncing back\" from being sexually assaulted.  Mia showed us how those demons come for you every day and how sometimes they best you. I was so in the moment with Broken World and hurt with Mia because she was surrounded by people but so alone and I understood her feelings.  I found myself wishing I could give her some of my courage and strength or even just to be there for her.  Thank you Lizzy for putting a great character\\'s voice on a strong subject and making it so that other peoples story may be heard through Mia\\'s.'"
      ]
     },
     "execution_count": 3,
     "metadata": {},
     "output_type": "execute_result"
    }
   ],
   "source": [
    "import json\n",
    "\n",
    "file_name = '/kaggle/input/books10000/Books_small_10000.json'\n",
    "\n",
    "reviews = []\n",
    "\n",
    "with open(file_name) as f:\n",
    "    for line in f:\n",
    "        review = json.loads(line)\n",
    "        reviews.append(Review(review['reviewText'], review['overall']))\n",
    "        \n",
    "reviews[5].text"
   ]
  },
  {
   "cell_type": "markdown",
   "id": "0a23f142",
   "metadata": {
    "papermill": {
     "duration": 0.006504,
     "end_time": "2023-05-04T12:58:42.414094",
     "exception": false,
     "start_time": "2023-05-04T12:58:42.407590",
     "status": "completed"
    },
    "tags": []
   },
   "source": [
    "## Prep Data"
   ]
  },
  {
   "cell_type": "code",
   "execution_count": 4,
   "id": "824c5652",
   "metadata": {
    "execution": {
     "iopub.execute_input": "2023-05-04T12:58:42.428973Z",
     "iopub.status.busy": "2023-05-04T12:58:42.428385Z",
     "iopub.status.idle": "2023-05-04T12:58:43.616017Z",
     "shell.execute_reply": "2023-05-04T12:58:43.614774Z"
    },
    "papermill": {
     "duration": 1.197889,
     "end_time": "2023-05-04T12:58:43.618490",
     "exception": false,
     "start_time": "2023-05-04T12:58:42.420601",
     "status": "completed"
    },
    "tags": []
   },
   "outputs": [
    {
     "name": "stderr",
     "output_type": "stream",
     "text": [
      "/opt/conda/lib/python3.10/site-packages/scipy/__init__.py:146: UserWarning: A NumPy version >=1.16.5 and <1.23.0 is required for this version of SciPy (detected version 1.23.5\n",
      "  warnings.warn(f\"A NumPy version >={np_minversion} and <{np_maxversion}\"\n"
     ]
    }
   ],
   "source": [
    "from sklearn.model_selection import train_test_split\n",
    "\n",
    "training, test = train_test_split(reviews, test_size=0.33, random_state=42)\n",
    "\n",
    "train_container = ReviewContainer(training)\n",
    "test_container = ReviewContainer(test)"
   ]
  },
  {
   "cell_type": "code",
   "execution_count": 5,
   "id": "b200896e",
   "metadata": {
    "execution": {
     "iopub.execute_input": "2023-05-04T12:58:43.633833Z",
     "iopub.status.busy": "2023-05-04T12:58:43.633454Z",
     "iopub.status.idle": "2023-05-04T12:58:43.649663Z",
     "shell.execute_reply": "2023-05-04T12:58:43.648422Z"
    },
    "papermill": {
     "duration": 0.026681,
     "end_time": "2023-05-04T12:58:43.652113",
     "exception": false,
     "start_time": "2023-05-04T12:58:43.625432",
     "status": "completed"
    },
    "tags": []
   },
   "outputs": [
    {
     "name": "stdout",
     "output_type": "stream",
     "text": [
      "436\n",
      "436\n"
     ]
    }
   ],
   "source": [
    "train_container.evenly_distribute()\n",
    "train_x = train_container.get_text()\n",
    "train_y = train_container.get_sentiment()\n",
    "\n",
    "test_container.evenly_distribute()\n",
    "test_x = test_container.get_text()\n",
    "test_y = test_container.get_sentiment()\n",
    "\n",
    "print(train_y.count(Sentiment.POSITIVE))\n",
    "print(train_y.count(Sentiment.NEGATIVE))"
   ]
  },
  {
   "cell_type": "markdown",
   "id": "0d32a3e0",
   "metadata": {
    "papermill": {
     "duration": 0.006534,
     "end_time": "2023-05-04T12:58:43.665623",
     "exception": false,
     "start_time": "2023-05-04T12:58:43.659089",
     "status": "completed"
    },
    "tags": []
   },
   "source": [
    "### Bag of words vectorization"
   ]
  },
  {
   "cell_type": "code",
   "execution_count": 6,
   "id": "caf29815",
   "metadata": {
    "execution": {
     "iopub.execute_input": "2023-05-04T12:58:43.681917Z",
     "iopub.status.busy": "2023-05-04T12:58:43.680801Z",
     "iopub.status.idle": "2023-05-04T12:58:43.834997Z",
     "shell.execute_reply": "2023-05-04T12:58:43.834048Z"
    },
    "papermill": {
     "duration": 0.165055,
     "end_time": "2023-05-04T12:58:43.837420",
     "exception": false,
     "start_time": "2023-05-04T12:58:43.672365",
     "status": "completed"
    },
    "tags": []
   },
   "outputs": [],
   "source": [
    "from sklearn.feature_extraction.text import CountVectorizer, TfidfVectorizer\n",
    "\n",
    "# This book is great\n",
    "# This book so bad\n",
    "\n",
    "vectorizer = TfidfVectorizer()\n",
    "train_x_vectors = vectorizer.fit_transform(train_x)\n",
    "test_x_vectors = vectorizer.transform(test_x)"
   ]
  },
  {
   "cell_type": "markdown",
   "id": "bc85ec0a",
   "metadata": {
    "papermill": {
     "duration": 0.006362,
     "end_time": "2023-05-04T12:58:43.850596",
     "exception": false,
     "start_time": "2023-05-04T12:58:43.844234",
     "status": "completed"
    },
    "tags": []
   },
   "source": [
    "## Classification"
   ]
  },
  {
   "cell_type": "markdown",
   "id": "c7b38f36",
   "metadata": {
    "papermill": {
     "duration": 0.006484,
     "end_time": "2023-05-04T12:58:43.864095",
     "exception": false,
     "start_time": "2023-05-04T12:58:43.857611",
     "status": "completed"
    },
    "tags": []
   },
   "source": [
    "#### Linear SVM"
   ]
  },
  {
   "cell_type": "code",
   "execution_count": 7,
   "id": "ad43f840",
   "metadata": {
    "execution": {
     "iopub.execute_input": "2023-05-04T12:58:43.878740Z",
     "iopub.status.busy": "2023-05-04T12:58:43.878386Z",
     "iopub.status.idle": "2023-05-04T12:58:44.367928Z",
     "shell.execute_reply": "2023-05-04T12:58:44.367207Z"
    },
    "papermill": {
     "duration": 0.499529,
     "end_time": "2023-05-04T12:58:44.370098",
     "exception": false,
     "start_time": "2023-05-04T12:58:43.870569",
     "status": "completed"
    },
    "tags": []
   },
   "outputs": [
    {
     "data": {
      "text/plain": [
       "array(['POSITIVE'], dtype='<U8')"
      ]
     },
     "execution_count": 7,
     "metadata": {},
     "output_type": "execute_result"
    }
   ],
   "source": [
    "from sklearn import svm\n",
    "\n",
    "clf_svm = svm.SVC(kernel='linear')\n",
    "\n",
    "clf_svm.fit(train_x_vectors, train_y)\n",
    "\n",
    "test_x[0]\n",
    "\n",
    "clf_svm.predict(test_x_vectors[0])"
   ]
  },
  {
   "cell_type": "markdown",
   "id": "9982ace7",
   "metadata": {
    "papermill": {
     "duration": 0.006837,
     "end_time": "2023-05-04T12:58:44.383864",
     "exception": false,
     "start_time": "2023-05-04T12:58:44.377027",
     "status": "completed"
    },
    "tags": []
   },
   "source": [
    "### Decision Tree\n"
   ]
  },
  {
   "cell_type": "code",
   "execution_count": 8,
   "id": "7acce5cb",
   "metadata": {
    "execution": {
     "iopub.execute_input": "2023-05-04T12:58:44.399593Z",
     "iopub.status.busy": "2023-05-04T12:58:44.399016Z",
     "iopub.status.idle": "2023-05-04T12:58:44.729961Z",
     "shell.execute_reply": "2023-05-04T12:58:44.728941Z"
    },
    "papermill": {
     "duration": 0.341276,
     "end_time": "2023-05-04T12:58:44.732056",
     "exception": false,
     "start_time": "2023-05-04T12:58:44.390780",
     "status": "completed"
    },
    "tags": []
   },
   "outputs": [
    {
     "data": {
      "text/plain": [
       "array(['NEGATIVE'], dtype='<U8')"
      ]
     },
     "execution_count": 8,
     "metadata": {},
     "output_type": "execute_result"
    }
   ],
   "source": [
    "from sklearn.tree import DecisionTreeClassifier\n",
    "\n",
    "clf_dec = DecisionTreeClassifier()\n",
    "clf_dec.fit(train_x_vectors, train_y)\n",
    "\n",
    "clf_dec.predict(test_x_vectors[0])"
   ]
  },
  {
   "cell_type": "markdown",
   "id": "40da3a51",
   "metadata": {
    "papermill": {
     "duration": 0.00676,
     "end_time": "2023-05-04T12:58:44.745804",
     "exception": false,
     "start_time": "2023-05-04T12:58:44.739044",
     "status": "completed"
    },
    "tags": []
   },
   "source": [
    "### Naive Bayes\n"
   ]
  },
  {
   "cell_type": "code",
   "execution_count": 9,
   "id": "e2fc7501",
   "metadata": {
    "execution": {
     "iopub.execute_input": "2023-05-04T12:58:44.761520Z",
     "iopub.status.busy": "2023-05-04T12:58:44.760647Z",
     "iopub.status.idle": "2023-05-04T12:58:44.984199Z",
     "shell.execute_reply": "2023-05-04T12:58:44.982940Z"
    },
    "papermill": {
     "duration": 0.233869,
     "end_time": "2023-05-04T12:58:44.986427",
     "exception": false,
     "start_time": "2023-05-04T12:58:44.752558",
     "status": "completed"
    },
    "tags": []
   },
   "outputs": [
    {
     "data": {
      "text/plain": [
       "array(['POSITIVE'], dtype='<U8')"
      ]
     },
     "execution_count": 9,
     "metadata": {},
     "output_type": "execute_result"
    }
   ],
   "source": [
    "from sklearn.naive_bayes import GaussianNB\n",
    "\n",
    "clf_gnb = GaussianNB()\n",
    "clf_gnb.fit(train_x_vectors.toarray(), train_y)\n",
    "\n",
    "clf_gnb.predict(test_x_vectors[0].toarray())"
   ]
  },
  {
   "cell_type": "markdown",
   "id": "f7e60d05",
   "metadata": {
    "papermill": {
     "duration": 0.006693,
     "end_time": "2023-05-04T12:58:45.000405",
     "exception": false,
     "start_time": "2023-05-04T12:58:44.993712",
     "status": "completed"
    },
    "tags": []
   },
   "source": [
    "### Logistic Regression"
   ]
  },
  {
   "cell_type": "code",
   "execution_count": 10,
   "id": "5e7c0b62",
   "metadata": {
    "execution": {
     "iopub.execute_input": "2023-05-04T12:58:45.015713Z",
     "iopub.status.busy": "2023-05-04T12:58:45.015367Z",
     "iopub.status.idle": "2023-05-04T12:58:45.101033Z",
     "shell.execute_reply": "2023-05-04T12:58:45.099996Z"
    },
    "papermill": {
     "duration": 0.096219,
     "end_time": "2023-05-04T12:58:45.103482",
     "exception": false,
     "start_time": "2023-05-04T12:58:45.007263",
     "status": "completed"
    },
    "tags": []
   },
   "outputs": [
    {
     "data": {
      "text/plain": [
       "array(['POSITIVE'], dtype='<U8')"
      ]
     },
     "execution_count": 10,
     "metadata": {},
     "output_type": "execute_result"
    }
   ],
   "source": [
    "from sklearn.linear_model import LogisticRegression\n",
    "\n",
    "clf_log = LogisticRegression()\n",
    "clf_log.fit(train_x_vectors, train_y)\n",
    "\n",
    "clf_log.predict(test_x_vectors[0])"
   ]
  },
  {
   "cell_type": "markdown",
   "id": "7a4ce3b1",
   "metadata": {
    "papermill": {
     "duration": 0.006853,
     "end_time": "2023-05-04T12:58:45.117592",
     "exception": false,
     "start_time": "2023-05-04T12:58:45.110739",
     "status": "completed"
    },
    "tags": []
   },
   "source": [
    "## Evaluation"
   ]
  },
  {
   "cell_type": "code",
   "execution_count": 11,
   "id": "747e844d",
   "metadata": {
    "execution": {
     "iopub.execute_input": "2023-05-04T12:58:45.133477Z",
     "iopub.status.busy": "2023-05-04T12:58:45.133094Z",
     "iopub.status.idle": "2023-05-04T12:58:45.380700Z",
     "shell.execute_reply": "2023-05-04T12:58:45.379359Z"
    },
    "papermill": {
     "duration": 0.258353,
     "end_time": "2023-05-04T12:58:45.383214",
     "exception": false,
     "start_time": "2023-05-04T12:58:45.124861",
     "status": "completed"
    },
    "tags": []
   },
   "outputs": [
    {
     "name": "stdout",
     "output_type": "stream",
     "text": [
      "0.8076923076923077\n",
      "0.6418269230769231\n",
      "0.6610576923076923\n",
      "0.8052884615384616\n"
     ]
    }
   ],
   "source": [
    "# Mean Accuracy\n",
    "print(clf_svm.score(test_x_vectors, test_y))\n",
    "print(clf_dec.score(test_x_vectors, test_y))\n",
    "print(clf_gnb.score(test_x_vectors.toarray(), test_y))\n",
    "print(clf_log.score(test_x_vectors, test_y))"
   ]
  },
  {
   "cell_type": "code",
   "execution_count": 12,
   "id": "9102966c",
   "metadata": {
    "execution": {
     "iopub.execute_input": "2023-05-04T12:58:45.399725Z",
     "iopub.status.busy": "2023-05-04T12:58:45.398909Z",
     "iopub.status.idle": "2023-05-04T12:58:45.656785Z",
     "shell.execute_reply": "2023-05-04T12:58:45.655185Z"
    },
    "papermill": {
     "duration": 0.270445,
     "end_time": "2023-05-04T12:58:45.660967",
     "exception": false,
     "start_time": "2023-05-04T12:58:45.390522",
     "status": "completed"
    },
    "tags": []
   },
   "outputs": [
    {
     "name": "stderr",
     "output_type": "stream",
     "text": [
      "/opt/conda/lib/python3.10/site-packages/sklearn/metrics/_classification.py:1609: UndefinedMetricWarning: F-score is ill-defined and being set to 0.0 in labels with no true nor predicted samples. Use `zero_division` parameter to control this behavior.\n",
      "  _warn_prf(average, \"true nor predicted\", \"F-score is\", len(true_sum))\n",
      "/opt/conda/lib/python3.10/site-packages/sklearn/metrics/_classification.py:1609: UndefinedMetricWarning: F-score is ill-defined and being set to 0.0 in labels with no true nor predicted samples. Use `zero_division` parameter to control this behavior.\n",
      "  _warn_prf(average, \"true nor predicted\", \"F-score is\", len(true_sum))\n"
     ]
    },
    {
     "data": {
      "text/plain": [
       "array([0.65693431, 0.        , 0.66508314])"
      ]
     },
     "execution_count": 12,
     "metadata": {},
     "output_type": "execute_result"
    }
   ],
   "source": [
    "# F1 Scores\n",
    "from sklearn.metrics import f1_score\n",
    "\n",
    "f1_score(test_y, clf_svm.predict(test_x_vectors), average=None, labels=[Sentiment.POSITIVE,\n",
    "                                                                       Sentiment.NEUTRAL,\n",
    "                                                                       Sentiment.NEGATIVE])\n",
    "f1_score(test_y, clf_gnb.predict(test_x_vectors.toarray()), average=None, labels=[Sentiment.POSITIVE,\n",
    "                                                                       Sentiment.NEUTRAL,\n",
    "                                                                       Sentiment.NEGATIVE])\n"
   ]
  },
  {
   "cell_type": "markdown",
   "id": "54db4e24",
   "metadata": {
    "execution": {
     "iopub.execute_input": "2023-05-04T12:23:23.230659Z",
     "iopub.status.busy": "2023-05-04T12:23:23.230246Z",
     "iopub.status.idle": "2023-05-04T12:23:23.237902Z",
     "shell.execute_reply": "2023-05-04T12:23:23.236709Z",
     "shell.execute_reply.started": "2023-05-04T12:23:23.230625Z"
    },
    "papermill": {
     "duration": 0.007691,
     "end_time": "2023-05-04T12:58:45.676108",
     "exception": false,
     "start_time": "2023-05-04T12:58:45.668417",
     "status": "completed"
    },
    "tags": []
   },
   "source": [
    "## Tuning our model (with Grid Search)"
   ]
  },
  {
   "cell_type": "code",
   "execution_count": 13,
   "id": "260ba36e",
   "metadata": {
    "execution": {
     "iopub.execute_input": "2023-05-04T12:58:45.694143Z",
     "iopub.status.busy": "2023-05-04T12:58:45.692903Z",
     "iopub.status.idle": "2023-05-04T12:59:02.884254Z",
     "shell.execute_reply": "2023-05-04T12:59:02.883027Z"
    },
    "papermill": {
     "duration": 17.202836,
     "end_time": "2023-05-04T12:59:02.886548",
     "exception": false,
     "start_time": "2023-05-04T12:58:45.683712",
     "status": "completed"
    },
    "tags": []
   },
   "outputs": [
    {
     "data": {
      "text/html": [
       "<style>#sk-container-id-1 {color: black;background-color: white;}#sk-container-id-1 pre{padding: 0;}#sk-container-id-1 div.sk-toggleable {background-color: white;}#sk-container-id-1 label.sk-toggleable__label {cursor: pointer;display: block;width: 100%;margin-bottom: 0;padding: 0.3em;box-sizing: border-box;text-align: center;}#sk-container-id-1 label.sk-toggleable__label-arrow:before {content: \"▸\";float: left;margin-right: 0.25em;color: #696969;}#sk-container-id-1 label.sk-toggleable__label-arrow:hover:before {color: black;}#sk-container-id-1 div.sk-estimator:hover label.sk-toggleable__label-arrow:before {color: black;}#sk-container-id-1 div.sk-toggleable__content {max-height: 0;max-width: 0;overflow: hidden;text-align: left;background-color: #f0f8ff;}#sk-container-id-1 div.sk-toggleable__content pre {margin: 0.2em;color: black;border-radius: 0.25em;background-color: #f0f8ff;}#sk-container-id-1 input.sk-toggleable__control:checked~div.sk-toggleable__content {max-height: 200px;max-width: 100%;overflow: auto;}#sk-container-id-1 input.sk-toggleable__control:checked~label.sk-toggleable__label-arrow:before {content: \"▾\";}#sk-container-id-1 div.sk-estimator input.sk-toggleable__control:checked~label.sk-toggleable__label {background-color: #d4ebff;}#sk-container-id-1 div.sk-label input.sk-toggleable__control:checked~label.sk-toggleable__label {background-color: #d4ebff;}#sk-container-id-1 input.sk-hidden--visually {border: 0;clip: rect(1px 1px 1px 1px);clip: rect(1px, 1px, 1px, 1px);height: 1px;margin: -1px;overflow: hidden;padding: 0;position: absolute;width: 1px;}#sk-container-id-1 div.sk-estimator {font-family: monospace;background-color: #f0f8ff;border: 1px dotted black;border-radius: 0.25em;box-sizing: border-box;margin-bottom: 0.5em;}#sk-container-id-1 div.sk-estimator:hover {background-color: #d4ebff;}#sk-container-id-1 div.sk-parallel-item::after {content: \"\";width: 100%;border-bottom: 1px solid gray;flex-grow: 1;}#sk-container-id-1 div.sk-label:hover label.sk-toggleable__label {background-color: #d4ebff;}#sk-container-id-1 div.sk-serial::before {content: \"\";position: absolute;border-left: 1px solid gray;box-sizing: border-box;top: 0;bottom: 0;left: 50%;z-index: 0;}#sk-container-id-1 div.sk-serial {display: flex;flex-direction: column;align-items: center;background-color: white;padding-right: 0.2em;padding-left: 0.2em;position: relative;}#sk-container-id-1 div.sk-item {position: relative;z-index: 1;}#sk-container-id-1 div.sk-parallel {display: flex;align-items: stretch;justify-content: center;background-color: white;position: relative;}#sk-container-id-1 div.sk-item::before, #sk-container-id-1 div.sk-parallel-item::before {content: \"\";position: absolute;border-left: 1px solid gray;box-sizing: border-box;top: 0;bottom: 0;left: 50%;z-index: -1;}#sk-container-id-1 div.sk-parallel-item {display: flex;flex-direction: column;z-index: 1;position: relative;background-color: white;}#sk-container-id-1 div.sk-parallel-item:first-child::after {align-self: flex-end;width: 50%;}#sk-container-id-1 div.sk-parallel-item:last-child::after {align-self: flex-start;width: 50%;}#sk-container-id-1 div.sk-parallel-item:only-child::after {width: 0;}#sk-container-id-1 div.sk-dashed-wrapped {border: 1px dashed gray;margin: 0 0.4em 0.5em 0.4em;box-sizing: border-box;padding-bottom: 0.4em;background-color: white;}#sk-container-id-1 div.sk-label label {font-family: monospace;font-weight: bold;display: inline-block;line-height: 1.2em;}#sk-container-id-1 div.sk-label-container {text-align: center;}#sk-container-id-1 div.sk-container {/* jupyter's `normalize.less` sets `[hidden] { display: none; }` but bootstrap.min.css set `[hidden] { display: none !important; }` so we also need the `!important` here to be able to override the default hidden behavior on the sphinx rendered scikit-learn.org. See: https://github.com/scikit-learn/scikit-learn/issues/21755 */display: inline-block !important;position: relative;}#sk-container-id-1 div.sk-text-repr-fallback {display: none;}</style><div id=\"sk-container-id-1\" class=\"sk-top-container\"><div class=\"sk-text-repr-fallback\"><pre>GridSearchCV(cv=5, estimator=SVC(),\n",
       "             param_grid={&#x27;C&#x27;: (1, 4, 8, 16, 32), &#x27;kernel&#x27;: (&#x27;linear&#x27;, &#x27;rbf&#x27;)})</pre><b>In a Jupyter environment, please rerun this cell to show the HTML representation or trust the notebook. <br />On GitHub, the HTML representation is unable to render, please try loading this page with nbviewer.org.</b></div><div class=\"sk-container\" hidden><div class=\"sk-item sk-dashed-wrapped\"><div class=\"sk-label-container\"><div class=\"sk-label sk-toggleable\"><input class=\"sk-toggleable__control sk-hidden--visually\" id=\"sk-estimator-id-1\" type=\"checkbox\" ><label for=\"sk-estimator-id-1\" class=\"sk-toggleable__label sk-toggleable__label-arrow\">GridSearchCV</label><div class=\"sk-toggleable__content\"><pre>GridSearchCV(cv=5, estimator=SVC(),\n",
       "             param_grid={&#x27;C&#x27;: (1, 4, 8, 16, 32), &#x27;kernel&#x27;: (&#x27;linear&#x27;, &#x27;rbf&#x27;)})</pre></div></div></div><div class=\"sk-parallel\"><div class=\"sk-parallel-item\"><div class=\"sk-item\"><div class=\"sk-label-container\"><div class=\"sk-label sk-toggleable\"><input class=\"sk-toggleable__control sk-hidden--visually\" id=\"sk-estimator-id-2\" type=\"checkbox\" ><label for=\"sk-estimator-id-2\" class=\"sk-toggleable__label sk-toggleable__label-arrow\">estimator: SVC</label><div class=\"sk-toggleable__content\"><pre>SVC()</pre></div></div></div><div class=\"sk-serial\"><div class=\"sk-item\"><div class=\"sk-estimator sk-toggleable\"><input class=\"sk-toggleable__control sk-hidden--visually\" id=\"sk-estimator-id-3\" type=\"checkbox\" ><label for=\"sk-estimator-id-3\" class=\"sk-toggleable__label sk-toggleable__label-arrow\">SVC</label><div class=\"sk-toggleable__content\"><pre>SVC()</pre></div></div></div></div></div></div></div></div></div></div>"
      ],
      "text/plain": [
       "GridSearchCV(cv=5, estimator=SVC(),\n",
       "             param_grid={'C': (1, 4, 8, 16, 32), 'kernel': ('linear', 'rbf')})"
      ]
     },
     "execution_count": 13,
     "metadata": {},
     "output_type": "execute_result"
    }
   ],
   "source": [
    "from sklearn.model_selection import GridSearchCV\n",
    "\n",
    "parameters = {'kernel': ('linear', 'rbf'),\n",
    "             'C': (1, 4, 8, 16, 32)}\n",
    "\n",
    "tuned_svc = svm.SVC()\n",
    "clf = GridSearchCV(tuned_svc, parameters, cv=5)\n",
    "clf.fit(train_x_vectors, train_y)"
   ]
  },
  {
   "cell_type": "code",
   "execution_count": 14,
   "id": "48cc4a76",
   "metadata": {
    "execution": {
     "iopub.execute_input": "2023-05-04T12:59:02.903493Z",
     "iopub.status.busy": "2023-05-04T12:59:02.903119Z",
     "iopub.status.idle": "2023-05-04T12:59:03.116908Z",
     "shell.execute_reply": "2023-05-04T12:59:03.115700Z"
    },
    "papermill": {
     "duration": 0.224807,
     "end_time": "2023-05-04T12:59:03.119124",
     "exception": false,
     "start_time": "2023-05-04T12:59:02.894317",
     "status": "completed"
    },
    "tags": []
   },
   "outputs": [
    {
     "name": "stdout",
     "output_type": "stream",
     "text": [
      "0.8197115384615384\n"
     ]
    }
   ],
   "source": [
    "print(clf.score(test_x_vectors, test_y))"
   ]
  },
  {
   "cell_type": "markdown",
   "id": "8d6e7278",
   "metadata": {
    "papermill": {
     "duration": 0.007587,
     "end_time": "2023-05-04T12:59:03.134656",
     "exception": false,
     "start_time": "2023-05-04T12:59:03.127069",
     "status": "completed"
    },
    "tags": []
   },
   "source": [
    "## Saving Model"
   ]
  },
  {
   "cell_type": "code",
   "execution_count": 15,
   "id": "2036ec03",
   "metadata": {
    "execution": {
     "iopub.execute_input": "2023-05-04T12:59:03.151774Z",
     "iopub.status.busy": "2023-05-04T12:59:03.151394Z",
     "iopub.status.idle": "2023-05-04T12:59:03.157742Z",
     "shell.execute_reply": "2023-05-04T12:59:03.156750Z"
    },
    "papermill": {
     "duration": 0.017249,
     "end_time": "2023-05-04T12:59:03.159838",
     "exception": false,
     "start_time": "2023-05-04T12:59:03.142589",
     "status": "completed"
    },
    "tags": []
   },
   "outputs": [],
   "source": [
    "import pickle \n",
    "\n",
    "with open('sentimental_classifier.pkl', 'wb') as f:\n",
    "    pickle.dump(clf, f)"
   ]
  },
  {
   "cell_type": "markdown",
   "id": "16e3a5f3",
   "metadata": {
    "papermill": {
     "duration": 0.007548,
     "end_time": "2023-05-04T12:59:03.175264",
     "exception": false,
     "start_time": "2023-05-04T12:59:03.167716",
     "status": "completed"
    },
    "tags": []
   },
   "source": [
    "### Load model"
   ]
  },
  {
   "cell_type": "code",
   "execution_count": 16,
   "id": "5c70a4b3",
   "metadata": {
    "execution": {
     "iopub.execute_input": "2023-05-04T12:59:03.192623Z",
     "iopub.status.busy": "2023-05-04T12:59:03.192254Z",
     "iopub.status.idle": "2023-05-04T12:59:03.197573Z",
     "shell.execute_reply": "2023-05-04T12:59:03.196654Z"
    },
    "papermill": {
     "duration": 0.016742,
     "end_time": "2023-05-04T12:59:03.199710",
     "exception": false,
     "start_time": "2023-05-04T12:59:03.182968",
     "status": "completed"
    },
    "tags": []
   },
   "outputs": [],
   "source": [
    "with open('sentimental_classifier.pkl', 'rb') as f:\n",
    "    loaded_clf = pickle.load(f)"
   ]
  },
  {
   "cell_type": "code",
   "execution_count": 17,
   "id": "033bc13a",
   "metadata": {
    "execution": {
     "iopub.execute_input": "2023-05-04T12:59:03.217038Z",
     "iopub.status.busy": "2023-05-04T12:59:03.216675Z",
     "iopub.status.idle": "2023-05-04T12:59:03.224237Z",
     "shell.execute_reply": "2023-05-04T12:59:03.223345Z"
    },
    "papermill": {
     "duration": 0.018538,
     "end_time": "2023-05-04T12:59:03.226266",
     "exception": false,
     "start_time": "2023-05-04T12:59:03.207728",
     "status": "completed"
    },
    "tags": []
   },
   "outputs": [
    {
     "data": {
      "text/plain": [
       "array(['POSITIVE'], dtype='<U8')"
      ]
     },
     "execution_count": 17,
     "metadata": {},
     "output_type": "execute_result"
    }
   ],
   "source": [
    "loaded_clf.predict(test_x_vectors[0])"
   ]
  },
  {
   "cell_type": "code",
   "execution_count": 18,
   "id": "d295dcc7",
   "metadata": {
    "execution": {
     "iopub.execute_input": "2023-05-04T12:59:03.243219Z",
     "iopub.status.busy": "2023-05-04T12:59:03.242857Z",
     "iopub.status.idle": "2023-05-04T12:59:03.247681Z",
     "shell.execute_reply": "2023-05-04T12:59:03.246763Z"
    },
    "papermill": {
     "duration": 0.015723,
     "end_time": "2023-05-04T12:59:03.249877",
     "exception": false,
     "start_time": "2023-05-04T12:59:03.234154",
     "status": "completed"
    },
    "tags": []
   },
   "outputs": [
    {
     "name": "stdout",
     "output_type": "stream",
     "text": [
      "Maybe the title is a direction for how best to read this book?I bought this book because of all the great reviews over on Amazon. Reviews that said such things as \"a real love story at last\"...I'm guessing these are the same people that enjoyed Madame Bovary in college.The author tries for a clever stylized book that never achieves even a modicum of greatness. I'm not sure the writer liked Judith, but I'm sure I did not like her! The story is told in a past present mix. The first part gets tedious because you have one chapter of Judith in the present, realizing she is unhappy with her life, but not quite sure why, and then you have a chapter of young Judith, a glimpse of how she got to where she is. It goes back and forth like that. Then in part two (yes the author has created three parts)you mostly get young Judith. She is not an unpleasant kid, but she is kind of snotty and places herself above others. Typical teen. When present day Judith wonders about her own teen daughters tendency toward unpleasantness I want to tell her to look in the mirror!Young Judith falls for an older boy. When they start dating she is about 17 and he is at least 21, maybe 22. He is a boy who went to high school, played basketball, and now does carpentry because he doesn't want to work his fathers farm. He is a pretty simple guy who is going to live and die in the midwest town he was born in. We know he is folksy and common because the author tells us he pronounces \"Periwinkle\" as \"Perry Winkle\" which was not the first time I scratched my head and said wtf? But he is exceedingly kind and has some real insight into the nature of what makes people tick. Willy is a truly likeable person. But Judith wants to shake the dust of Rufus Sage off her feet, she is meant for something more. So when she gets into Stanford, she takes the opportunity, never looking back at Rufus Sage or Willy.So now she is an unsatisfied adult wondering what became of Willy her first love, and Deena and Patrick, the only two people she could call friends in Rufus Sage.I could never care about Judith. There was nothing compelling about her. Mostly I wanted to slap her. I loved Willy and thought she was an idiot for never really seeing who he was.At it's best, I guess it's a story that shows you can't go back and that you have to accept the choices you make. But that's me reaching for something good to say. A grand love story it most definitely is not!\n"
     ]
    }
   ],
   "source": [
    "print(test_x[0])"
   ]
  },
  {
   "cell_type": "code",
   "execution_count": null,
   "id": "69b422b4",
   "metadata": {
    "papermill": {
     "duration": 0.007783,
     "end_time": "2023-05-04T12:59:03.265522",
     "exception": false,
     "start_time": "2023-05-04T12:59:03.257739",
     "status": "completed"
    },
    "tags": []
   },
   "outputs": [],
   "source": []
  }
 ],
 "metadata": {
  "kernelspec": {
   "display_name": "Python 3",
   "language": "python",
   "name": "python3"
  },
  "language_info": {
   "codemirror_mode": {
    "name": "ipython",
    "version": 3
   },
   "file_extension": ".py",
   "mimetype": "text/x-python",
   "name": "python",
   "nbconvert_exporter": "python",
   "pygments_lexer": "ipython3",
   "version": "3.10.10"
  },
  "papermill": {
   "default_parameters": {},
   "duration": 32.219834,
   "end_time": "2023-05-04T12:59:04.195522",
   "environment_variables": {},
   "exception": null,
   "input_path": "__notebook__.ipynb",
   "output_path": "__notebook__.ipynb",
   "parameters": {},
   "start_time": "2023-05-04T12:58:31.975688",
   "version": "2.4.0"
  }
 },
 "nbformat": 4,
 "nbformat_minor": 5
}
